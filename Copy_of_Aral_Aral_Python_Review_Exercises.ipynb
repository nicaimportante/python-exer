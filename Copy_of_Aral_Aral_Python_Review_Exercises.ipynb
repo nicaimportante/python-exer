{
  "nbformat": 4,
  "nbformat_minor": 0,
  "metadata": {
    "kernelspec": {
      "display_name": "Python 3",
      "language": "python",
      "name": "python3"
    },
    "language_info": {
      "codemirror_mode": {
        "name": "ipython",
        "version": 3
      },
      "file_extension": ".py",
      "mimetype": "text/x-python",
      "name": "python",
      "nbconvert_exporter": "python",
      "pygments_lexer": "ipython3",
      "version": "3.7.1"
    },
    "colab": {
      "name": "Copy of Aral-Aral Python Review Exercises.ipynb",
      "version": "0.3.2",
      "provenance": [],
      "include_colab_link": true
    }
  },
  "cells": [
    {
      "cell_type": "markdown",
      "metadata": {
        "id": "view-in-github",
        "colab_type": "text"
      },
      "source": [
        "<a href=\"https://colab.research.google.com/github/nicaimportante/python-exer/blob/master/Copy_of_Aral_Aral_Python_Review_Exercises.ipynb\" target=\"_parent\"><img src=\"https://colab.research.google.com/assets/colab-badge.svg\" alt=\"Open In Colab\"/></a>"
      ]
    },
    {
      "cell_type": "markdown",
      "metadata": {
        "id": "yJCs84SM5J8i",
        "colab_type": "text"
      },
      "source": [
        "<h3 id=\"exercise\">Exercise: Your First Program</h3>\n",
        "<p>Generations of programmers have started their coding careers by simply printing \"Hello, world!\". You will be following in their footsteps.</p>\n",
        "<p>In the code cell below, use the <code>print()</code> function to print out the phrase: <code>Hello, world!</code></p>"
      ]
    },
    {
      "cell_type": "code",
      "metadata": {
        "id": "eifSIQ825J8q",
        "colab_type": "code",
        "outputId": "fb8ea546-154f-4c7a-ecd9-d6fcbb0c3237",
        "colab": {
          "base_uri": "https://localhost:8080/",
          "height": 34
        }
      },
      "source": [
        "# Write your code below and press Shift+Enter to execute \n",
        "print(\"Hello World!\")"
      ],
      "execution_count": 0,
      "outputs": [
        {
          "output_type": "stream",
          "text": [
            "Hello World!\n"
          ],
          "name": "stdout"
        }
      ]
    },
    {
      "cell_type": "markdown",
      "metadata": {
        "id": "oJkG7tuu5J9O",
        "colab_type": "text"
      },
      "source": [
        "<p>Now, let's enhance your code with a comment. In the code cell below, print out the phrase: <code>Hello, world!</code> and comment it with the phrase <code>Print the traditional hello world</code> all in one line of code.</p>"
      ]
    },
    {
      "cell_type": "code",
      "metadata": {
        "id": "3sUxWRv85J9R",
        "colab_type": "code",
        "outputId": "cd257f95-3c2c-4925-efa0-75958bd31a4b",
        "colab": {
          "base_uri": "https://localhost:8080/",
          "height": 34
        }
      },
      "source": [
        "# Write your code below and press Shift+Enter to execute \n",
        "# Print the traditional hello world\n",
        "print(\"Hello, world!\") #Print the traditional hello world"
      ],
      "execution_count": 0,
      "outputs": [
        {
          "output_type": "stream",
          "text": [
            "Hello, world!\n"
          ],
          "name": "stdout"
        }
      ]
    },
    {
      "cell_type": "markdown",
      "metadata": {
        "id": "nuVippdx5J9z",
        "colab_type": "text"
      },
      "source": [
        "<h3 id=\"exer_type\">Exercise: Types</h3>\n",
        "<p>In the code cell below, use the <code>type()</code> function to check the object type of <code>12.0</code>."
      ]
    },
    {
      "cell_type": "code",
      "metadata": {
        "id": "VnKX9D0l5J93",
        "colab_type": "code",
        "outputId": "aa20a4f3-c6e6-4f69-ad41-8721ce73e982",
        "colab": {
          "base_uri": "https://localhost:8080/",
          "height": 34
        }
      },
      "source": [
        "# Write your code below. Don't forget to press Shift+Enter to execute the cell\n",
        "# float\n",
        "type(12.0)"
      ],
      "execution_count": 0,
      "outputs": [
        {
          "output_type": "execute_result",
          "data": {
            "text/plain": [
              "float"
            ]
          },
          "metadata": {
            "tags": []
          },
          "execution_count": 3
        }
      ]
    },
    {
      "cell_type": "markdown",
      "metadata": {
        "id": "TO0tkIeV5J-M",
        "colab_type": "text"
      },
      "source": [
        "<p>What is the data type of the result of: <code>6 / 2</code>?</p>"
      ]
    },
    {
      "cell_type": "code",
      "metadata": {
        "id": "ssSjT0mI5J-R",
        "colab_type": "code",
        "outputId": "620d2e2d-79af-44d0-94f9-4c722528c6f7",
        "colab": {
          "base_uri": "https://localhost:8080/",
          "height": 34
        }
      },
      "source": [
        "# Write your code below. Don't forget to press Shift+Enter to execute the cell\n",
        "# float\n",
        "type(6/2)"
      ],
      "execution_count": 0,
      "outputs": [
        {
          "output_type": "execute_result",
          "data": {
            "text/plain": [
              "float"
            ]
          },
          "metadata": {
            "tags": []
          },
          "execution_count": 4
        }
      ]
    },
    {
      "cell_type": "markdown",
      "metadata": {
        "id": "puyKYQCI5J-n",
        "colab_type": "text"
      },
      "source": [
        "<p>What is the type of the result of: <code>6 // 2</code>? (Note the double slash <code>//</code>.)</p>"
      ]
    },
    {
      "cell_type": "code",
      "metadata": {
        "id": "_Tz7RQ4f5J-r",
        "colab_type": "code",
        "outputId": "1a5ed721-a1d5-4fa3-f21e-ac0673f94180",
        "colab": {
          "base_uri": "https://localhost:8080/",
          "height": 34
        }
      },
      "source": [
        "# Write your code below. Don't forget to press Shift+Enter to execute the cell\n",
        "# int, as the double slashes stand for integer division \n",
        "type(6//2)"
      ],
      "execution_count": 0,
      "outputs": [
        {
          "output_type": "execute_result",
          "data": {
            "text/plain": [
              "int"
            ]
          },
          "metadata": {
            "tags": []
          },
          "execution_count": 5
        }
      ]
    },
    {
      "cell_type": "markdown",
      "metadata": {
        "id": "Sp96APSI5J_B",
        "colab_type": "text"
      },
      "source": [
        "<h3 id=\"exer_exp\">Exercise: Expression</h3>\n",
        "<p>Let's write an expression that calculates how many hours there are in 160 minutes:"
      ]
    },
    {
      "cell_type": "code",
      "metadata": {
        "id": "g73VuAS15J_F",
        "colab_type": "code",
        "outputId": "14e64cf0-4876-4d8d-d134-e8e73d407629",
        "colab": {
          "base_uri": "https://localhost:8080/",
          "height": 34
        }
      },
      "source": [
        "# Write your code below. Don't forget to press Shift+Enter to execute the cell\n",
        "# Or\n",
        "hrs = 160/60\n",
        "print(\"There are \", hrs, \" in 160 minutes\")"
      ],
      "execution_count": 0,
      "outputs": [
        {
          "output_type": "stream",
          "text": [
            "There are  2.6666666666666665  in 160 minutes\n"
          ],
          "name": "stdout"
        }
      ]
    },
    {
      "cell_type": "markdown",
      "metadata": {
        "id": "zgx5I0dc5J_U",
        "colab_type": "text"
      },
      "source": [
        "<h3 id=\"exer_exp_var\">Exercise: Expression and Variables in Python</h3>\n",
        "<p>What is the value of <code>x</code> where <code>x = 3 + 2 * 2</code></p>"
      ]
    },
    {
      "cell_type": "code",
      "metadata": {
        "id": "deLmMuq_5J_Y",
        "colab_type": "code",
        "outputId": "eb7257e7-ea54-4c2e-c666-0133e257fc8c",
        "colab": {
          "base_uri": "https://localhost:8080/",
          "height": 34
        }
      },
      "source": [
        "# Write your code below. Don't forget to press Shift+Enter to execute the cell\n",
        "x = 3 + 2 * 2\n",
        "x"
      ],
      "execution_count": 0,
      "outputs": [
        {
          "output_type": "execute_result",
          "data": {
            "text/plain": [
              "7"
            ]
          },
          "metadata": {
            "tags": []
          },
          "execution_count": 8
        }
      ]
    },
    {
      "cell_type": "markdown",
      "metadata": {
        "id": "pSLFCcgt5J_1",
        "colab_type": "text"
      },
      "source": [
        "<p>What is the value of <code>y</code> where <code>y = (3 + 2) * 2</code>?</p>"
      ]
    },
    {
      "cell_type": "code",
      "metadata": {
        "id": "m3DGIijE5J_5",
        "colab_type": "code",
        "outputId": "29129d6d-197c-486e-ce25-fed5889bdcd6",
        "colab": {
          "base_uri": "https://localhost:8080/",
          "height": 34
        }
      },
      "source": [
        "# Write your code below. Don't forget to press Shift+Enter to execute the cell\n",
        "y = (3+2) * 2\n",
        "y"
      ],
      "execution_count": 0,
      "outputs": [
        {
          "output_type": "execute_result",
          "data": {
            "text/plain": [
              "10"
            ]
          },
          "metadata": {
            "tags": []
          },
          "execution_count": 9
        }
      ]
    },
    {
      "cell_type": "markdown",
      "metadata": {
        "id": "ihNdBkEx5KAJ",
        "colab_type": "text"
      },
      "source": [
        "<p>What is the value of <code>z</code> where <code>z = x + y</code>?</p>"
      ]
    },
    {
      "cell_type": "code",
      "metadata": {
        "id": "BHUbN7RU5KAM",
        "colab_type": "code",
        "outputId": "5d4fcb70-2bc8-448c-d924-7498aef81cc7",
        "colab": {
          "base_uri": "https://localhost:8080/",
          "height": 34
        }
      },
      "source": [
        "# Write your code below. Don't forget to press Shift+Enter to execute the cell\n",
        "z = x + y\n",
        "z"
      ],
      "execution_count": 0,
      "outputs": [
        {
          "output_type": "execute_result",
          "data": {
            "text/plain": [
              "17"
            ]
          },
          "metadata": {
            "tags": []
          },
          "execution_count": 10
        }
      ]
    },
    {
      "cell_type": "markdown",
      "metadata": {
        "id": "awQnYEl05KAf",
        "colab_type": "text"
      },
      "source": [
        "<h2 id=\"quiz\">Quiz on Tuples</h2>\n",
        "\n",
        "Consider the following tuple:"
      ]
    },
    {
      "cell_type": "code",
      "metadata": {
        "id": "GO4hbwEw5KAj",
        "colab_type": "code",
        "outputId": "543c8bb4-a7c8-4d9e-fe2a-8fbf742f6ee1",
        "colab": {
          "base_uri": "https://localhost:8080/",
          "height": 153
        }
      },
      "source": [
        "# sample tuple\n",
        "\n",
        "genres_tuple = (\"pop\", \"rock\", \"soul\", \"hard rock\", \"soft rock\", \\\n",
        "                \"R&B\", \"progressive rock\", \"disco\") \n",
        "genres_tuple"
      ],
      "execution_count": 0,
      "outputs": [
        {
          "output_type": "execute_result",
          "data": {
            "text/plain": [
              "('pop',\n",
              " 'rock',\n",
              " 'soul',\n",
              " 'hard rock',\n",
              " 'soft rock',\n",
              " 'R&B',\n",
              " 'progressive rock',\n",
              " 'disco')"
            ]
          },
          "metadata": {
            "tags": []
          },
          "execution_count": 12
        }
      ]
    },
    {
      "cell_type": "markdown",
      "metadata": {
        "id": "wUon5KYi5KAx",
        "colab_type": "text"
      },
      "source": [
        "Find the length of the tuple, <code>genres_tuple</code>:"
      ]
    },
    {
      "cell_type": "code",
      "metadata": {
        "id": "hdUH0Cvg5KA0",
        "colab_type": "code",
        "outputId": "3b6ae66c-5f58-4f31-e388-86b2ce3dda2d",
        "colab": {
          "base_uri": "https://localhost:8080/",
          "height": 34
        }
      },
      "source": [
        "# Write your code below and press Shift+Enter to execute\n",
        "len(genres_tuple)"
      ],
      "execution_count": 0,
      "outputs": [
        {
          "output_type": "execute_result",
          "data": {
            "text/plain": [
              "8"
            ]
          },
          "metadata": {
            "tags": []
          },
          "execution_count": 13
        }
      ]
    },
    {
      "cell_type": "markdown",
      "metadata": {
        "id": "f_0h3VSn5KBN",
        "colab_type": "text"
      },
      "source": [
        "Access the element, with respect to index 3: "
      ]
    },
    {
      "cell_type": "code",
      "metadata": {
        "id": "Xv4bcF515KBT",
        "colab_type": "code",
        "outputId": "02571e60-55b2-42a7-8ecd-8ef25d9d1bed",
        "colab": {
          "base_uri": "https://localhost:8080/",
          "height": 34
        }
      },
      "source": [
        "# Write your code below and press Shift+Enter to execute\n",
        "genres_tuple[3]"
      ],
      "execution_count": 0,
      "outputs": [
        {
          "output_type": "execute_result",
          "data": {
            "text/plain": [
              "'hard rock'"
            ]
          },
          "metadata": {
            "tags": []
          },
          "execution_count": 15
        }
      ]
    },
    {
      "cell_type": "markdown",
      "metadata": {
        "id": "QhWkmXN-5KBo",
        "colab_type": "text"
      },
      "source": [
        "Use slicing to obtain indexes 3, 4 and 5:"
      ]
    },
    {
      "cell_type": "code",
      "metadata": {
        "id": "YmeXiA3w5KBu",
        "colab_type": "code",
        "outputId": "f503716f-7375-4fb3-cad7-f7a55298c822",
        "colab": {
          "base_uri": "https://localhost:8080/",
          "height": 34
        }
      },
      "source": [
        "# Write your code below and press Shift+Enter to execute\n",
        "genres_tuple[3:6]"
      ],
      "execution_count": 0,
      "outputs": [
        {
          "output_type": "execute_result",
          "data": {
            "text/plain": [
              "('hard rock', 'soft rock', 'R&B')"
            ]
          },
          "metadata": {
            "tags": []
          },
          "execution_count": 16
        }
      ]
    },
    {
      "cell_type": "markdown",
      "metadata": {
        "id": "C63b8LmX5KCL",
        "colab_type": "text"
      },
      "source": [
        "Find the first two elements of the tuple <code>genres_tuple</code>:"
      ]
    },
    {
      "cell_type": "code",
      "metadata": {
        "id": "_aCdlzKm5KCO",
        "colab_type": "code",
        "outputId": "273ccf58-c639-411a-e442-945fe7a4a508",
        "colab": {
          "base_uri": "https://localhost:8080/",
          "height": 34
        }
      },
      "source": [
        "# Write your code below and press Shift+Enter to execute\n",
        "genres_tuple[0:2]"
      ],
      "execution_count": 0,
      "outputs": [
        {
          "output_type": "execute_result",
          "data": {
            "text/plain": [
              "('pop', 'rock')"
            ]
          },
          "metadata": {
            "tags": []
          },
          "execution_count": 17
        }
      ]
    },
    {
      "cell_type": "markdown",
      "metadata": {
        "id": "gGas0cdp5KCm",
        "colab_type": "text"
      },
      "source": [
        "Find the index of <code>\"disco\"</code>:"
      ]
    },
    {
      "cell_type": "code",
      "metadata": {
        "id": "0_iSLDWF5KCr",
        "colab_type": "code",
        "outputId": "0956a9bf-7a00-4f8f-c333-3c397ef8972a",
        "colab": {
          "base_uri": "https://localhost:8080/",
          "height": 34
        }
      },
      "source": [
        "# Write your code below and press Shift+Enter to execute\n",
        "genres_tuple.index(\"disco\")"
      ],
      "execution_count": 0,
      "outputs": [
        {
          "output_type": "execute_result",
          "data": {
            "text/plain": [
              "7"
            ]
          },
          "metadata": {
            "tags": []
          },
          "execution_count": 20
        }
      ]
    },
    {
      "cell_type": "markdown",
      "metadata": {
        "id": "DOIq1so95KC8",
        "colab_type": "text"
      },
      "source": [
        "Generate a sorted List from the Tuple <code>C_tuple=(-5, 1, -3)</code>:"
      ]
    },
    {
      "cell_type": "code",
      "metadata": {
        "id": "AOP-s0vY5KC_",
        "colab_type": "code",
        "outputId": "4cee7167-bfb1-44e1-9b47-724df35b1ce7",
        "colab": {
          "base_uri": "https://localhost:8080/",
          "height": 34
        }
      },
      "source": [
        "# Write your code below and press Shift+Enter to execute\n",
        "C_tuple = (-5,1,-3)\n",
        "genreSorted = sorted(C_tuple)\n",
        "genreSorted"
      ],
      "execution_count": 0,
      "outputs": [
        {
          "output_type": "execute_result",
          "data": {
            "text/plain": [
              "[-5, -3, 1]"
            ]
          },
          "metadata": {
            "tags": []
          },
          "execution_count": 24
        }
      ]
    },
    {
      "cell_type": "markdown",
      "metadata": {
        "id": "RGP3Ntt05KDN",
        "colab_type": "text"
      },
      "source": [
        "<h2 id=\"quiz\">Quiz on List</h2>\n",
        "\n",
        "Create a list <code>a_list</code>, with the following elements <code>1</code>, <code>hello</code>, <code>[1,2,3]</code> and <code>True</code>. "
      ]
    },
    {
      "cell_type": "code",
      "metadata": {
        "id": "VqDCvx0p5KDU",
        "colab_type": "code",
        "outputId": "500c396d-7a5d-4fd9-c854-301bdb1f0b28",
        "colab": {
          "base_uri": "https://localhost:8080/",
          "height": 34
        }
      },
      "source": [
        "# Write your code below and press Shift+Enter to execute\n",
        "a_list = [1,\"hello\",[1,2,3],True]\n",
        "a_list"
      ],
      "execution_count": 0,
      "outputs": [
        {
          "output_type": "execute_result",
          "data": {
            "text/plain": [
              "[1, 'hello', [1, 2, 3], True]"
            ]
          },
          "metadata": {
            "tags": []
          },
          "execution_count": 25
        }
      ]
    },
    {
      "cell_type": "markdown",
      "metadata": {
        "id": "qWoLXSG55KDm",
        "colab_type": "text"
      },
      "source": [
        "Find the value stored at index 1 of <code>a_list</code>."
      ]
    },
    {
      "cell_type": "code",
      "metadata": {
        "id": "sg8Yv_Fd5KDq",
        "colab_type": "code",
        "outputId": "15d7a2a3-b782-4eb9-f299-07f6a9edd83c",
        "colab": {
          "base_uri": "https://localhost:8080/",
          "height": 34
        }
      },
      "source": [
        "# Write your code below and press Shift+Enter to execute\n",
        "a_list[1]"
      ],
      "execution_count": 0,
      "outputs": [
        {
          "output_type": "execute_result",
          "data": {
            "text/plain": [
              "'hello'"
            ]
          },
          "metadata": {
            "tags": []
          },
          "execution_count": 26
        }
      ]
    },
    {
      "cell_type": "markdown",
      "metadata": {
        "id": "A9kNQep45KD_",
        "colab_type": "text"
      },
      "source": [
        "Retrieve the elements stored at index 1, 2 and 3 of <code>a_list</code>."
      ]
    },
    {
      "cell_type": "code",
      "metadata": {
        "id": "7-9opUPa5KEB",
        "colab_type": "code",
        "outputId": "10cc44e5-7fec-451e-d094-e300c9841e7a",
        "colab": {
          "base_uri": "https://localhost:8080/",
          "height": 34
        }
      },
      "source": [
        "# Write your code below and press Shift+Enter to execute\n",
        "a_list[1:4]"
      ],
      "execution_count": 0,
      "outputs": [
        {
          "output_type": "execute_result",
          "data": {
            "text/plain": [
              "['hello', [1, 2, 3], True]"
            ]
          },
          "metadata": {
            "tags": []
          },
          "execution_count": 27
        }
      ]
    },
    {
      "cell_type": "markdown",
      "metadata": {
        "id": "LwIR-Yz65KES",
        "colab_type": "text"
      },
      "source": [
        "Concatenate the following lists <code>A = [1, 'a']</code> and <code>B = [2, 1, 'd']</code>:"
      ]
    },
    {
      "cell_type": "code",
      "metadata": {
        "id": "fsDNHLq_5KEW",
        "colab_type": "code",
        "outputId": "1bb927a1-3667-4ba8-9791-8ec548e42ee5",
        "colab": {
          "base_uri": "https://localhost:8080/",
          "height": 34
        }
      },
      "source": [
        "# Write your code below and press Shift+Enter to execute\n",
        "A = [1, 'a'] \n",
        "B = [2,1,'d']\n",
        "concat = A + B\n",
        "concat"
      ],
      "execution_count": 0,
      "outputs": [
        {
          "output_type": "execute_result",
          "data": {
            "text/plain": [
              "[1, 'a', 2, 1, 'd']"
            ]
          },
          "metadata": {
            "tags": []
          },
          "execution_count": 28
        }
      ]
    },
    {
      "cell_type": "markdown",
      "metadata": {
        "id": "7xfEf6835KE1",
        "colab_type": "text"
      },
      "source": [
        "<h2 id=\"quiz\">Quiz on Sets</h2>\n",
        "\n",
        "Convert the list <code>['rap','house','electronic music', 'rap']</code> to a set:"
      ]
    },
    {
      "cell_type": "code",
      "metadata": {
        "id": "ASPqgxZY5KE4",
        "colab_type": "code",
        "outputId": "fbbd32f6-300c-4c5c-e2e8-aaaf4ba90168",
        "colab": {
          "base_uri": "https://localhost:8080/",
          "height": 34
        }
      },
      "source": [
        "# Write your code below and press Shift+Enter to execute\n",
        "lists = ['rap', 'house', 'electronic music']\n",
        "setA = set(lists)\n",
        "setA"
      ],
      "execution_count": 0,
      "outputs": [
        {
          "output_type": "execute_result",
          "data": {
            "text/plain": [
              "{'electronic music', 'house', 'rap'}"
            ]
          },
          "metadata": {
            "tags": []
          },
          "execution_count": 31
        }
      ]
    },
    {
      "cell_type": "markdown",
      "metadata": {
        "id": "kEagZpcx5KFO",
        "colab_type": "text"
      },
      "source": [
        "Consider the list <code>A = [1, 2, 2, 1]</code> and set <code>B = set([1, 2, 2, 1])</code>, does <code>sum(A) = sum(B)</code> "
      ]
    },
    {
      "cell_type": "code",
      "metadata": {
        "id": "_d1dr07c5KFT",
        "colab_type": "code",
        "outputId": "e1440c69-1adb-471f-b021-1bffafcb9451",
        "colab": {
          "base_uri": "https://localhost:8080/",
          "height": 68
        }
      },
      "source": [
        "# Write your code below and press Shift+Enter to execute\n",
        "A = [1,2,2,1]\n",
        "B = set([1,2,2,1])\n",
        "print(sum(A))\n",
        "print(sum(B))\n",
        "sum(A)==sum(B)"
      ],
      "execution_count": 0,
      "outputs": [
        {
          "output_type": "stream",
          "text": [
            "6\n",
            "3\n"
          ],
          "name": "stdout"
        },
        {
          "output_type": "execute_result",
          "data": {
            "text/plain": [
              "False"
            ]
          },
          "metadata": {
            "tags": []
          },
          "execution_count": 39
        }
      ]
    },
    {
      "cell_type": "markdown",
      "metadata": {
        "id": "5vRRSaDy5KFk",
        "colab_type": "text"
      },
      "source": [
        "Create a new set <code>album_set3</code> that is the union of <code>album_set1</code> and <code>album_set2</code>:"
      ]
    },
    {
      "cell_type": "code",
      "metadata": {
        "id": "_jcrmwTr5KFo",
        "colab_type": "code",
        "outputId": "33aa2fe4-bec3-4fba-d0b3-74d7c8407ad7",
        "colab": {
          "base_uri": "https://localhost:8080/",
          "height": 34
        }
      },
      "source": [
        "# Write your code below and press Shift+Enter to execute\n",
        "album_set_1 = {'pepsi','sprite','coke','mountain dew'}\n",
        "album_set_2 = {'coke', 'sprite', '7up', 'mirinda','royal'}\n",
        "album_set_3 = album_set_1.union(album_set_2)\n",
        "album_set_3"
      ],
      "execution_count": 0,
      "outputs": [
        {
          "output_type": "execute_result",
          "data": {
            "text/plain": [
              "{'7up', 'coke', 'mirinda', 'mountain dew', 'pepsi', 'royal', 'sprite'}"
            ]
          },
          "metadata": {
            "tags": []
          },
          "execution_count": 33
        }
      ]
    },
    {
      "cell_type": "markdown",
      "metadata": {
        "id": "x3RpsLYr5KF4",
        "colab_type": "text"
      },
      "source": [
        "Find out if <code>album_set1</code> is a subset of <code>album_set3</code>:"
      ]
    },
    {
      "cell_type": "code",
      "metadata": {
        "id": "aB4TOM0b5KF7",
        "colab_type": "code",
        "outputId": "fde2ab3b-977d-4b40-8f1d-859c226aa997",
        "colab": {
          "base_uri": "https://localhost:8080/",
          "height": 34
        }
      },
      "source": [
        "# Write your code below and press Shift+Enter to execute\n",
        "album_set_1.issubset(album_set_3)"
      ],
      "execution_count": 0,
      "outputs": [
        {
          "output_type": "execute_result",
          "data": {
            "text/plain": [
              "True"
            ]
          },
          "metadata": {
            "tags": []
          },
          "execution_count": 35
        }
      ]
    },
    {
      "cell_type": "markdown",
      "metadata": {
        "id": "_TdQ2WnO5KGR",
        "colab_type": "text"
      },
      "source": [
        "<h2 id=\"quiz\">Quiz on Dictionaries</h2>\n",
        "\n",
        "<b>You will need this dictionary for the next two questions:</b>"
      ]
    },
    {
      "cell_type": "code",
      "metadata": {
        "id": "l7i_mm-D5KGU",
        "colab_type": "code",
        "colab": {
          "base_uri": "https://localhost:8080/",
          "height": 34
        },
        "outputId": "d532219c-813b-4095-bc42-0716f210ef3e"
      },
      "source": [
        "# Question sample dictionary\n",
        "soundtrack_dict = {\"A\":1982, \"B\":1990, \"C\":1991, \"D\":200}\n",
        "soundtrack_dict"
      ],
      "execution_count": 1,
      "outputs": [
        {
          "output_type": "execute_result",
          "data": {
            "text/plain": [
              "{'A': 1982, 'B': 1990, 'C': 1991, 'D': 200}"
            ]
          },
          "metadata": {
            "tags": []
          },
          "execution_count": 1
        }
      ]
    },
    {
      "cell_type": "markdown",
      "metadata": {
        "id": "rdLT7zmX5KGj",
        "colab_type": "text"
      },
      "source": [
        "a) In the dictionary <code>soundtrack_dict</code> what are the keys ?"
      ]
    },
    {
      "cell_type": "code",
      "metadata": {
        "id": "oMJ6Bu9U5KGm",
        "colab_type": "code",
        "colab": {
          "base_uri": "https://localhost:8080/",
          "height": 34
        },
        "outputId": "dafb4287-0ad6-4188-9585-40437442c3ef"
      },
      "source": [
        "# Write your code below and press Shift+Enter to execute\n",
        "# The Keys \"The Bodyguard\" and \"Saturday Night Fever\" \n",
        "soundtrack_dict.keys()"
      ],
      "execution_count": 2,
      "outputs": [
        {
          "output_type": "execute_result",
          "data": {
            "text/plain": [
              "dict_keys(['A', 'B', 'C', 'D'])"
            ]
          },
          "metadata": {
            "tags": []
          },
          "execution_count": 2
        }
      ]
    },
    {
      "cell_type": "markdown",
      "metadata": {
        "id": "Rb6kjd8w5KG4",
        "colab_type": "text"
      },
      "source": [
        "b) In the dictionary <code>soundtrack_dict</code> what are the values ?"
      ]
    },
    {
      "cell_type": "code",
      "metadata": {
        "id": "D9LXBvfz5KG7",
        "colab_type": "code",
        "colab": {
          "base_uri": "https://localhost:8080/",
          "height": 34
        },
        "outputId": "b78afec1-5741-4e72-d572-23c1f90aa51b"
      },
      "source": [
        "# Write your code below and press Shift+Enter to execute\n",
        "# The values are \"1992\" and \"1977\"\n",
        "soundtrack_dict.values()"
      ],
      "execution_count": 3,
      "outputs": [
        {
          "output_type": "execute_result",
          "data": {
            "text/plain": [
              "dict_values([1982, 1990, 1991, 200])"
            ]
          },
          "metadata": {
            "tags": []
          },
          "execution_count": 3
        }
      ]
    },
    {
      "cell_type": "markdown",
      "metadata": {
        "id": "Ojwo5l8_5KHK",
        "colab_type": "text"
      },
      "source": [
        "<b>You will need this dictionary for the following questions:</b>\n",
        "\n",
        "The Albums <b>Back in Black</b>, <b>The Bodyguard</b> and <b>Thriller</b> have the following music recording sales in millions 50, 50 and 65 respectively:\n",
        "\n",
        "a) Create a dictionary <code>album_sales_dict</code> where the keys are the album name and the sales in millions are the values. "
      ]
    },
    {
      "cell_type": "code",
      "metadata": {
        "id": "9Dr1vRod5KHP",
        "colab_type": "code",
        "colab": {
          "base_uri": "https://localhost:8080/",
          "height": 34
        },
        "outputId": "a21297f4-f8ab-4589-a0f8-8d9d776f545a"
      },
      "source": [
        "# Write your code below and press Shift+Enter to execute\n",
        "album_sales_dict = {\"Back in Black\": 50000000, \"The Bodyguard\":50000000, \"Thriller\":65000000}\n",
        "album_sales_dict"
      ],
      "execution_count": 4,
      "outputs": [
        {
          "output_type": "execute_result",
          "data": {
            "text/plain": [
              "{'Back in Black': 50000000, 'The Bodyguard': 50000000, 'Thriller': 65000000}"
            ]
          },
          "metadata": {
            "tags": []
          },
          "execution_count": 4
        }
      ]
    },
    {
      "cell_type": "markdown",
      "metadata": {
        "id": "JSejdQOv5KHa",
        "colab_type": "text"
      },
      "source": [
        "b) Use the dictionary to find the total sales of <b>Thriller</b>:"
      ]
    },
    {
      "cell_type": "code",
      "metadata": {
        "id": "yXKgBBz05KH7",
        "colab_type": "code",
        "colab": {
          "base_uri": "https://localhost:8080/",
          "height": 34
        },
        "outputId": "68b9872b-17ca-4d43-da24-4c85f451486c"
      },
      "source": [
        "# Write your code below and press Shift+Enter to execute\n",
        "album_sales_dict[\"Thriller\"]"
      ],
      "execution_count": 5,
      "outputs": [
        {
          "output_type": "execute_result",
          "data": {
            "text/plain": [
              "65000000"
            ]
          },
          "metadata": {
            "tags": []
          },
          "execution_count": 5
        }
      ]
    },
    {
      "cell_type": "markdown",
      "metadata": {
        "id": "7dO6MXFh5KIQ",
        "colab_type": "text"
      },
      "source": [
        "c) Find the names of the albums from the dictionary using the method <code>keys</code>:"
      ]
    },
    {
      "cell_type": "code",
      "metadata": {
        "id": "qK5W5XuM5KIY",
        "colab_type": "code",
        "colab": {
          "base_uri": "https://localhost:8080/",
          "height": 34
        },
        "outputId": "7d465e18-aa0f-46cf-d41e-cbf13a4fa76f"
      },
      "source": [
        "# Write your code below and press Shift+Enter to execute\n",
        "album_sales_dict.keys()"
      ],
      "execution_count": 6,
      "outputs": [
        {
          "output_type": "execute_result",
          "data": {
            "text/plain": [
              "dict_keys(['Back in Black', 'The Bodyguard', 'Thriller'])"
            ]
          },
          "metadata": {
            "tags": []
          },
          "execution_count": 6
        }
      ]
    },
    {
      "cell_type": "markdown",
      "metadata": {
        "id": "QvfQiuDB5KJN",
        "colab_type": "text"
      },
      "source": [
        "d) Find the names of the recording sales from the dictionary using the method <code>values</code>:"
      ]
    },
    {
      "cell_type": "code",
      "metadata": {
        "id": "LjMSSH8A5KJR",
        "colab_type": "code",
        "colab": {
          "base_uri": "https://localhost:8080/",
          "height": 34
        },
        "outputId": "ccd331e5-bb2d-4aa5-a895-cfd949f6b943"
      },
      "source": [
        "# Write your code below and press Shift+Enter to execute\n",
        "album_sales_dict.values()"
      ],
      "execution_count": 7,
      "outputs": [
        {
          "output_type": "execute_result",
          "data": {
            "text/plain": [
              "dict_values([50000000, 50000000, 65000000])"
            ]
          },
          "metadata": {
            "tags": []
          },
          "execution_count": 7
        }
      ]
    },
    {
      "cell_type": "markdown",
      "metadata": {
        "id": "m6kW03Oi5KJu",
        "colab_type": "text"
      },
      "source": [
        "<h2 id=\"quiz\">Quiz on Conditions</h2>\n",
        "\n",
        "Write an if statement to determine if an album had a rating greater than 8. Test it using the rating for the album <b>“Back in Black”</b> that had a rating of 8.5. If the statement is true print \"This album is Amazing!\""
      ]
    },
    {
      "cell_type": "code",
      "metadata": {
        "id": "88Mk_Bxk5KJ0",
        "colab_type": "code",
        "colab": {
          "base_uri": "https://localhost:8080/",
          "height": 34
        },
        "outputId": "20d8c5c7-cfa7-42cc-dae3-67d9cadb43d9"
      },
      "source": [
        "# Write your code below and press Shift+Enter to execute\n",
        "rating = 8.5\n",
        "if(rating>8):\n",
        "  print(\"The album is Amazing!\")\n"
      ],
      "execution_count": 14,
      "outputs": [
        {
          "output_type": "stream",
          "text": [
            "The album is Amazing!\n"
          ],
          "name": "stdout"
        }
      ]
    },
    {
      "cell_type": "markdown",
      "metadata": {
        "id": "A8yAtarA5KKL",
        "colab_type": "text"
      },
      "source": [
        "Write an if-else statement that performs the following. If the rating is larger then eight print “this album is amazing”. If the rating is less than or equal to 8 print “this album is ok”."
      ]
    },
    {
      "cell_type": "code",
      "metadata": {
        "id": "gcxnuBwS5KKN",
        "colab_type": "code",
        "colab": {
          "base_uri": "https://localhost:8080/",
          "height": 34
        },
        "outputId": "df0c989c-a733-4c68-c787-9f36549819fa"
      },
      "source": [
        "# Write your code below and press Shift+Enter to execute\n",
        "rating = 8\n",
        "if(rating>8):\n",
        "  print(\"the album is amazing\")\n",
        "else:\n",
        "  print(\"this album is ok\")"
      ],
      "execution_count": 15,
      "outputs": [
        {
          "output_type": "stream",
          "text": [
            "this album is ok\n"
          ],
          "name": "stdout"
        }
      ]
    },
    {
      "cell_type": "markdown",
      "metadata": {
        "id": "2xOa7y2o5KKa",
        "colab_type": "text"
      },
      "source": [
        "Write an if statement to determine if an album came out before 1980 or in the years: 1991 or 1993. If the condition is true print out the year the album came out."
      ]
    },
    {
      "cell_type": "code",
      "metadata": {
        "id": "3yHlbtX-5KKd",
        "colab_type": "code",
        "colab": {
          "base_uri": "https://localhost:8080/",
          "height": 34
        },
        "outputId": "f209ad21-da0e-477c-9813-727d53d3a431"
      },
      "source": [
        "# Write your code below and press Shift+Enter to execute\n",
        "album = 1991\n",
        "if(album == 1980 or album == 1991 or album ==1993):\n",
        "  print(album)"
      ],
      "execution_count": 16,
      "outputs": [
        {
          "output_type": "stream",
          "text": [
            "1991\n"
          ],
          "name": "stdout"
        }
      ]
    },
    {
      "cell_type": "markdown",
      "metadata": {
        "id": "dLXuyore5KKp",
        "colab_type": "text"
      },
      "source": [
        "<h2 id=\"quiz\">Quiz on Loops</h2>\n",
        "\n",
        "Write a <code>for</code> loop the prints out all the element between <b>-5</b> and <b>5</b> using the range function."
      ]
    },
    {
      "cell_type": "code",
      "metadata": {
        "id": "yOLRE-Qa5KK7",
        "colab_type": "code",
        "colab": {
          "base_uri": "https://localhost:8080/",
          "height": 170
        },
        "outputId": "9aa94c69-10a3-490c-897e-e390337fee0b"
      },
      "source": [
        "# Write your code below and press Shift+Enter to execute\n",
        "for i in range(-4,5):\n",
        "  print(i)"
      ],
      "execution_count": 20,
      "outputs": [
        {
          "output_type": "stream",
          "text": [
            "-4\n",
            "-3\n",
            "-2\n",
            "-1\n",
            "0\n",
            "1\n",
            "2\n",
            "3\n",
            "4\n"
          ],
          "name": "stdout"
        }
      ]
    },
    {
      "cell_type": "markdown",
      "metadata": {
        "id": "64UQ6CxY5KLJ",
        "colab_type": "text"
      },
      "source": [
        "Print the elements of the following list:\n",
        "<code>Genres=[ 'rock', 'R&B', 'Soundtrack', 'R&B', 'soul', 'pop']</code>\n",
        "Make sure you follow Python conventions."
      ]
    },
    {
      "cell_type": "code",
      "metadata": {
        "id": "XKGbZ4dU5KLL",
        "colab_type": "code",
        "colab": {
          "base_uri": "https://localhost:8080/",
          "height": 119
        },
        "outputId": "6cbac6c1-fccc-4264-d339-f55a4aef3bf0"
      },
      "source": [
        "# Write your code below and press Shift+Enter to execute\n",
        "Genres = ['rock', 'R&B', 'soundtrack', 'R&B', 'soul', 'pop']\n",
        "for i,genres in enumerate(Genres):\n",
        "  print(genres)"
      ],
      "execution_count": 22,
      "outputs": [
        {
          "output_type": "stream",
          "text": [
            "rock\n",
            "R&B\n",
            "soundtrack\n",
            "R&B\n",
            "soul\n",
            "pop\n"
          ],
          "name": "stdout"
        }
      ]
    },
    {
      "cell_type": "markdown",
      "metadata": {
        "id": "YNbnGqvI5KLd",
        "colab_type": "text"
      },
      "source": [
        "Write a for loop that prints out the following list: <code>squares=['red', 'yellow', 'green', 'purple', 'blue']</code>"
      ]
    },
    {
      "cell_type": "code",
      "metadata": {
        "id": "PFtbjSO25KLh",
        "colab_type": "code",
        "colab": {
          "base_uri": "https://localhost:8080/",
          "height": 102
        },
        "outputId": "d9981d74-cd59-4e87-9201-011639558e48"
      },
      "source": [
        "# Write your code below and press Shift+Enter to execute\n",
        "squares=['red', 'yellow', 'green', 'purple', 'blue']\n",
        "for i,squares in enumerate(squares):\n",
        "  print(squares)\n"
      ],
      "execution_count": 23,
      "outputs": [
        {
          "output_type": "stream",
          "text": [
            "red\n",
            "yellow\n",
            "green\n",
            "purple\n",
            "blue\n"
          ],
          "name": "stdout"
        }
      ]
    },
    {
      "cell_type": "markdown",
      "metadata": {
        "id": "FJ96ul5p5KLu",
        "colab_type": "text"
      },
      "source": [
        "Write a while loop to display the values of the Rating of an album playlist stored in the list <code>PlayListRatings</code>. If the score is less than 6, exit the loop. The list <code>PlayListRatings</code> is given by: <code>PlayListRatings = [10, 9.5, 10, 8, 7.5, 5, 10, 10]</code>"
      ]
    },
    {
      "cell_type": "code",
      "metadata": {
        "id": "ohFopIMU5KL_",
        "colab_type": "code",
        "colab": {
          "base_uri": "https://localhost:8080/",
          "height": 102
        },
        "outputId": "643e0517-8a96-4cd3-d443-4d77b2ad5635"
      },
      "source": [
        "# Write your code below and press Shift+Enter to execute\n",
        "PlayListRatings = [10, 9.5, 10, 8, 7.5, 5, 10, 10]\n",
        "i=0\n",
        "while(PlayListRatings[i]>=6):\n",
        "  print(PlayListRatings[i])\n",
        "  i=i+1\n",
        "  "
      ],
      "execution_count": 26,
      "outputs": [
        {
          "output_type": "stream",
          "text": [
            "10\n",
            "9.5\n",
            "10\n",
            "8\n",
            "7.5\n"
          ],
          "name": "stdout"
        }
      ]
    },
    {
      "cell_type": "markdown",
      "metadata": {
        "id": "IV2Juref5KNI",
        "colab_type": "text"
      },
      "source": [
        "Write a while loop to copy the strings <code>'orange'</code> of the list <code>squares</code> to the list <code>new_squares</code>. Stop and exit the loop if the value on the list is not <code>'orange'</code>:"
      ]
    },
    {
      "cell_type": "code",
      "metadata": {
        "id": "U9cmyzQE5KNP",
        "colab_type": "code",
        "colab": {
          "base_uri": "https://localhost:8080/",
          "height": 34
        },
        "outputId": "efbc85a4-265c-47e0-e5d0-c28cabb690cc"
      },
      "source": [
        "# Write your code below and press Shift+Enter to execute\n",
        "squares=['orange', 'orange', 'green', 'purple', 'blue']\n",
        "new_squares = []\n",
        "i= 0\n",
        "while(squares[i] == 'orange'):\n",
        "  new_squares.append(squares[i])\n",
        "  i=i+1\n",
        "print(new_squares)\n"
      ],
      "execution_count": 29,
      "outputs": [
        {
          "output_type": "stream",
          "text": [
            "['orange', 'orange']\n"
          ],
          "name": "stdout"
        }
      ]
    },
    {
      "cell_type": "markdown",
      "metadata": {
        "id": "XU44vexE5KNe",
        "colab_type": "text"
      },
      "source": [
        "<h2>Quiz on Functions</h2>\n",
        "\n",
        "Come up with a function that divides the first input by the second input:"
      ]
    },
    {
      "cell_type": "code",
      "metadata": {
        "id": "2iGpbfWB5KNi",
        "colab_type": "code",
        "colab": {
          "base_uri": "https://localhost:8080/",
          "height": 34
        },
        "outputId": "53f39eab-2347-49f2-fbcd-010391cfeb12"
      },
      "source": [
        "# Write your code below and press Shift+Enter to execute\n",
        "def div(a,b):\n",
        "  c = a/b\n",
        "  return c\n",
        "\n",
        "print(div(15,5))"
      ],
      "execution_count": 30,
      "outputs": [
        {
          "output_type": "stream",
          "text": [
            "3.0\n"
          ],
          "name": "stdout"
        }
      ]
    },
    {
      "cell_type": "markdown",
      "metadata": {
        "id": "5uxXdxqK5KOZ",
        "colab_type": "text"
      },
      "source": [
        "Use the function <code>con</code> for the following question."
      ]
    },
    {
      "cell_type": "code",
      "metadata": {
        "id": "LV3inZGH5KOv",
        "colab_type": "code",
        "colab": {}
      },
      "source": [
        "# Use the con function for the following question\n",
        "def con(a, b):\n",
        "    return(a + b)"
      ],
      "execution_count": 0,
      "outputs": []
    },
    {
      "cell_type": "markdown",
      "metadata": {
        "id": "ljCA-AWU5KO2",
        "colab_type": "text"
      },
      "source": [
        "Can the <code>con</code> function we defined before be used to add to integers or strings?"
      ]
    },
    {
      "cell_type": "code",
      "metadata": {
        "id": "5Nlh_iN-5KO4",
        "colab_type": "code",
        "colab": {
          "base_uri": "https://localhost:8080/",
          "height": 51
        },
        "outputId": "1a4827cf-015c-4f1a-ea70-30435e0d89e8"
      },
      "source": [
        "# Write your code below and press Shift+Enter to execute\n",
        "print(\"Integers: \",con(1,1))\n",
        "print(\"Strings: \",con(\"hello \",\"world\"))"
      ],
      "execution_count": 33,
      "outputs": [
        {
          "output_type": "stream",
          "text": [
            "Integers:  2\n",
            "Strings:  hello world\n"
          ],
          "name": "stdout"
        }
      ]
    },
    {
      "cell_type": "markdown",
      "metadata": {
        "id": "HTFFn7hX5KPA",
        "colab_type": "text"
      },
      "source": [
        "Can the <code>con</code> function we defined before be used to concentrate a list or tuple?"
      ]
    },
    {
      "cell_type": "code",
      "metadata": {
        "id": "J6CxA5mo5KPC",
        "colab_type": "code",
        "colab": {
          "base_uri": "https://localhost:8080/",
          "height": 34
        },
        "outputId": "ca12e009-3f4e-4a63-fc36-c176c3428ade"
      },
      "source": [
        "# Write your code below and press Shift+Enter to execute\n",
        "alist = [1,2]\n",
        "blist = [3,4]\n",
        "print(con(alist,blist))"
      ],
      "execution_count": 34,
      "outputs": [
        {
          "output_type": "stream",
          "text": [
            "[1, 2, 3, 4]\n"
          ],
          "name": "stdout"
        }
      ]
    },
    {
      "cell_type": "markdown",
      "metadata": {
        "id": "Ujn8F3iv5KPT",
        "colab_type": "text"
      },
      "source": [
        "<h2 id=\"quiz\">Quiz on 1D Numpy Array</h2>\n",
        "\n",
        "Implement the following vector subtraction in numpy: u-v"
      ]
    },
    {
      "cell_type": "code",
      "metadata": {
        "id": "oEB8yc8_5KPX",
        "colab_type": "code",
        "colab": {
          "base_uri": "https://localhost:8080/",
          "height": 34
        },
        "outputId": "c590cf93-63a3-45b5-81de-d52ced35290a"
      },
      "source": [
        "# Write your code below and press Shift+Enter to execute\n",
        "import numpy as np\n",
        "u = np.array([1,0])\n",
        "v = np.array([0,1])\n",
        "z = u-v\n",
        "z"
      ],
      "execution_count": 37,
      "outputs": [
        {
          "output_type": "execute_result",
          "data": {
            "text/plain": [
              "array([ 1, -1])"
            ]
          },
          "metadata": {
            "tags": []
          },
          "execution_count": 37
        }
      ]
    },
    {
      "cell_type": "markdown",
      "metadata": {
        "id": "8O5iMxGY5KPk",
        "colab_type": "text"
      },
      "source": [
        "Multiply the numpy array z with -2:"
      ]
    },
    {
      "cell_type": "code",
      "metadata": {
        "id": "Vl5ZChVQ5KPp",
        "colab_type": "code",
        "colab": {
          "base_uri": "https://localhost:8080/",
          "height": 34
        },
        "outputId": "29024891-2210-4cc5-97f9-a3f7ac898dad"
      },
      "source": [
        "# Write your code below and press Shift+Enter to execute\n",
        "z = np.array([3,5])\n",
        "y = z *2\n",
        "y"
      ],
      "execution_count": 39,
      "outputs": [
        {
          "output_type": "execute_result",
          "data": {
            "text/plain": [
              "array([ 6, 10])"
            ]
          },
          "metadata": {
            "tags": []
          },
          "execution_count": 39
        }
      ]
    },
    {
      "cell_type": "markdown",
      "metadata": {
        "id": "-YtjrQnt5KP5",
        "colab_type": "text"
      },
      "source": [
        "Consider the list <code>[1, 2, 3, 4, 5]</code> and <code>[1, 0, 1, 0, 1]</code>, and cast both lists to a numpy array then multiply them together:"
      ]
    },
    {
      "cell_type": "code",
      "metadata": {
        "id": "FKZzC61Z5KP7",
        "colab_type": "code",
        "colab": {
          "base_uri": "https://localhost:8080/",
          "height": 34
        },
        "outputId": "1cfeb590-b5bb-42b6-b336-c954ef3e3009"
      },
      "source": [
        "# Write your code below and press Shift+Enter to execute\n",
        "alist = [1,2,3,4,5]\n",
        "blist = [1,0,1,0,1]\n",
        "A = np.array(alist)\n",
        "B = np.array(blist)\n",
        "C = A*B\n",
        "C"
      ],
      "execution_count": 40,
      "outputs": [
        {
          "output_type": "execute_result",
          "data": {
            "text/plain": [
              "array([1, 0, 3, 0, 5])"
            ]
          },
          "metadata": {
            "tags": []
          },
          "execution_count": 40
        }
      ]
    },
    {
      "cell_type": "markdown",
      "metadata": {
        "id": "xS87SEbq5KQV",
        "colab_type": "text"
      },
      "source": [
        "Convert the list <code>[-1, 1]</code> and <code>[1, 1]</code> to numpy arrays <code>a</code> and <code>b</code>.  Then, plot the arrays as vectors using the fuction <code>Plotvec2</code> and find the dot product:"
      ]
    },
    {
      "cell_type": "code",
      "metadata": {
        "id": "Pl0fMa895KQW",
        "colab_type": "code",
        "colab": {
          "base_uri": "https://localhost:8080/",
          "height": 286
        },
        "outputId": "557fb2f8-7a58-4271-c20c-5129f1dc43b2"
      },
      "source": [
        "# Write your code below and press Shift+Enter to execute\n",
        "import matplotlib.pyplot as plt\n",
        "\n",
        "a = np.array([-1,1])\n",
        "b = np.array([1,1])\n",
        "\n",
        "def Plotvec2(a,b):\n",
        "    ax = plt.axes()\n",
        "    ax.arrow(0, 0, *a, head_width=0.05, color ='r', head_length=0.1)\n",
        "    plt.text(*(a + 0.1), 'a')\n",
        "    ax.arrow(0, 0, *b, head_width=0.05, color ='b', head_length=0.1)\n",
        "    plt.text(*(b + 0.1), 'b')\n",
        "    plt.ylim(-2, 2)\n",
        "    plt.xlim(-2, 2)\n",
        "\n",
        "Plotvec2(a,b)\n",
        "print(np.dot(a,b))"
      ],
      "execution_count": 42,
      "outputs": [
        {
          "output_type": "stream",
          "text": [
            "0\n"
          ],
          "name": "stdout"
        },
        {
          "output_type": "display_data",
          "data": {
            "image/png": "[encoded data removed]",
            "text/plain": [
              "<Figure size 432x288 with 1 Axes>"
            ]
          },
          "metadata": {
            "tags": []
          }
        }
      ]
    },
    {
      "cell_type": "markdown",
      "metadata": {
        "id": "1fY0fV-c5KQn",
        "colab_type": "text"
      },
      "source": [
        "Convert the list <code>[1, 0]</code> and <code>[0, 1]</code> to numpy arrays <code>a</code> and <code>b</code>. Then, plot the arrays as vectors using the function <code>Plotvec2</code> and find the dot product:"
      ]
    },
    {
      "cell_type": "code",
      "metadata": {
        "id": "iNq5Q3Ru5KQs",
        "colab_type": "code",
        "colab": {
          "base_uri": "https://localhost:8080/",
          "height": 286
        },
        "outputId": "b09b342b-f460-4bda-f065-8f9d92f6b10b"
      },
      "source": [
        "# Write your code below and press Shift+Enter to execute\n",
        "a = np.array([1,0])\n",
        "b = np.array([0,1])\n",
        "\n",
        "Plotvec2(a,b)\n",
        "print(np.dot(a,b))"
      ],
      "execution_count": 43,
      "outputs": [
        {
          "output_type": "stream",
          "text": [
            "0\n"
          ],
          "name": "stdout"
        },
        {
          "output_type": "display_data",
          "data": {
            "image/png": "[encoded data removed]",
            "text/plain": [
              "<Figure size 432x288 with 1 Axes>"
            ]
          },
          "metadata": {
            "tags": []
          }
        }
      ]
    },
    {
      "cell_type": "markdown",
      "metadata": {
        "id": "ocS9cp8b5KQ2",
        "colab_type": "text"
      },
      "source": [
        "Convert the list <code>[1, 1]</code> and <code>[0, 1]</code> to numpy arrays <code>a</code> and <code>b</code>. Then plot the arrays as vectors using the fuction <code>Plotvec2</code> and find the dot product:"
      ]
    },
    {
      "cell_type": "code",
      "metadata": {
        "id": "H0X1qhew5KQ5",
        "colab_type": "code",
        "colab": {
          "base_uri": "https://localhost:8080/",
          "height": 286
        },
        "outputId": "008d5c62-4199-46a3-9b34-00885208a022"
      },
      "source": [
        "# Write your code below and press Shift+Enter to execute\n",
        "a=np.array([1,1])\n",
        "b=np.array([0,1])\n",
        "Plotvec2(a,b)\n",
        "print(np.dot(a,b))"
      ],
      "execution_count": 44,
      "outputs": [
        {
          "output_type": "stream",
          "text": [
            "1\n"
          ],
          "name": "stdout"
        },
        {
          "output_type": "display_data",
          "data": {
            "image/png": "[encoded data removed]",
            "text/plain": [
              "<Figure size 432x288 with 1 Axes>"
            ]
          },
          "metadata": {
            "tags": []
          }
        }
      ]
    },
    {
      "cell_type": "markdown",
      "metadata": {
        "id": "FsCmEjkf5KRG",
        "colab_type": "text"
      },
      "source": [
        "Why are the results of the dot product for <code>[-1, 1]</code> and <code>[1, 1]</code> and the dot product for <code>[1, 0]</code> and <code>[0, 1]</code> zero, but not zero for the dot product for <code>[1, 1]</code> and <code>[0, 1]</code>? <p><i>Hint: Study the corresponding figures, pay attention to the direction the arrows are pointing to.</i></p>"
      ]
    },
    {
      "cell_type": "code",
      "metadata": {
        "id": "k7tozWJH5KRI",
        "colab_type": "code",
        "colab": {}
      },
      "source": [
        "# Write your code below and press Shift+Enter to execute\n",
        "#The vectors used for question 4 and 5 are perpendicular. As a result, the dot product is zero. "
      ],
      "execution_count": 0,
      "outputs": []
    }
  ]
}